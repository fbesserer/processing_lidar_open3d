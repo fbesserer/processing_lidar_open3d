{
 "cells": [
  {
   "cell_type": "code",
   "execution_count": 1,
   "id": "73020fa7-b491-414a-ab75-d2406708656f",
   "metadata": {},
   "outputs": [
    {
     "name": "stdout",
     "output_type": "stream",
     "text": [
      "Jupyter environment detected. Enabling Open3D WebVisualizer.\n",
      "[Open3D INFO] WebRTC GUI backend enabled.\n",
      "[Open3D INFO] WebRTCWindowSystem: HTTP handshake server disabled.\n",
      "[Open3D INFO] Resetting default logger to print to terminal.\n"
     ]
    }
   ],
   "source": [
    "import open3d as o3d\n",
    "from open3d.web_visualizer import draw"
   ]
  },
  {
   "cell_type": "code",
   "execution_count": 2,
   "id": "cf9fd40b-0be8-47f5-8462-7ff77b01f8e6",
   "metadata": {},
   "outputs": [],
   "source": [
    "import open3d as o3d\n",
    "import numpy as np\n",
    "import matplotlib.pyplot as plt"
   ]
  },
  {
   "cell_type": "markdown",
   "id": "1b156e02-b3a7-41c5-986f-ead57fa49fa1",
   "metadata": {},
   "source": [
    "# Loading Lidar readings files (.pcd) files"
   ]
  },
  {
   "cell_type": "code",
   "execution_count": 3,
   "id": "845d14d6-a5e6-47f8-9a8c-b4ba8537ab49",
   "metadata": {},
   "outputs": [
    {
     "name": "stdout",
     "output_type": "stream",
     "text": [
      "Load a pcd point cloud, print it, and render it\n",
      "PointCloud with 119978 points.\n",
      "[[52.30099869  7.30000019  1.995     ]\n",
      " [50.5719986   7.21999979  1.93700004]\n",
      " [48.7879982   7.27699995  1.87699997]\n",
      " ...\n",
      " [ 3.59200001 -1.33800006 -1.671     ]\n",
      " [ 3.75600004 -1.38699996 -1.75100005]\n",
      " [ 0.          0.          0.        ]]\n"
     ]
    }
   ],
   "source": [
    "print(\"Load a pcd point cloud, print it, and render it\")\n",
    "pcd = o3d.io.read_point_cloud(\"./sensors/data_1/0000000000.pcd\")\n",
    "print(pcd)\n",
    "print(np.asarray(pcd.points))"
   ]
  },
  {
   "cell_type": "code",
   "execution_count": 4,
   "id": "e39db145-bc4e-46d7-bc40-f3db7a9e3e46",
   "metadata": {},
   "outputs": [
    {
     "data": {
      "application/vnd.jupyter.widget-view+json": {
       "model_id": "123b6d1da90e418699aadd45bf7b41d8",
       "version_major": 2,
       "version_minor": 0
      },
      "text/plain": [
       "WebVisualizer(window_uid='window_0')"
      ]
     },
     "metadata": {},
     "output_type": "display_data"
    }
   ],
   "source": [
    "draw(pcd)"
   ]
  },
  {
   "cell_type": "markdown",
   "id": "1114437c-589b-4c6d-b7e2-9711b53f185d",
   "metadata": {},
   "source": [
    "## FIRST PART"
   ]
  },
  {
   "cell_type": "markdown",
   "id": "73c79bfe-e489-4c32-b29e-2c948286b2f1",
   "metadata": {},
   "source": [
    "### Filtering the initial point cloud. Using voxel grid filtering, we reduce the number of points in the point cloud. "
   ]
  },
  {
   "cell_type": "code",
   "execution_count": 5,
   "id": "65e7e0f3-1edb-4c28-9842-1cc442d995e6",
   "metadata": {},
   "outputs": [
    {
     "name": "stdout",
     "output_type": "stream",
     "text": [
      "Downsample the point cloud with a voxel of 0.2\n"
     ]
    },
    {
     "data": {
      "application/vnd.jupyter.widget-view+json": {
       "model_id": "5001f5655b624cd3b7a4bb37eef96167",
       "version_major": 2,
       "version_minor": 0
      },
      "text/plain": [
       "WebVisualizer(window_uid='window_1')"
      ]
     },
     "metadata": {},
     "output_type": "display_data"
    }
   ],
   "source": [
    "VOXEL_SIZE = 0.2\n",
    "print(f\"Downsample the point cloud with a voxel of {VOXEL_SIZE}\")\n",
    "downpcd = pcd.voxel_down_sample(voxel_size=VOXEL_SIZE)\n",
    "draw(downpcd)"
   ]
  },
  {
   "cell_type": "markdown",
   "id": "67192713-5b9a-4bdc-9358-15337d10f714",
   "metadata": {},
   "source": [
    "### Cropping points outside the region of interest."
   ]
  },
  {
   "cell_type": "code",
   "execution_count": 6,
   "id": "203d6344-64e7-41f1-bb4f-f46c699c6ff0",
   "metadata": {
    "scrolled": true
   },
   "outputs": [
    {
     "name": "stdout",
     "output_type": "stream",
     "text": [
      "Cropping the image to only left ROI\n"
     ]
    },
    {
     "data": {
      "application/vnd.jupyter.widget-view+json": {
       "model_id": "cfed4fdc0f834dc89e7fcc54122b784e",
       "version_major": 2,
       "version_minor": 0
      },
      "text/plain": [
       "WebVisualizer(window_uid='window_2')"
      ]
     },
     "metadata": {},
     "output_type": "display_data"
    }
   ],
   "source": [
    "print(\"Cropping the image to only left ROI\")\n",
    "bbox = o3d.geometry.AxisAlignedBoundingBox(\n",
    "    min_bound=(-15, -5, -2), \n",
    "    max_bound=(30, 7, 1)\n",
    "    )\n",
    "croppcd = downpcd.crop(bbox)\n",
    "draw(croppcd)"
   ]
  },
  {
   "cell_type": "markdown",
   "id": "6548af43-b8e8-460b-b6f6-2a2540ffd480",
   "metadata": {},
   "source": [
    "### Removing points that belong to the \"car's\" roof."
   ]
  },
  {
   "cell_type": "code",
   "execution_count": 7,
   "id": "1307fab1-6208-4f32-81b9-5975c46b837f",
   "metadata": {},
   "outputs": [
    {
     "name": "stdout",
     "output_type": "stream",
     "text": [
      "Extracting only the roff points\n"
     ]
    },
    {
     "data": {
      "application/vnd.jupyter.widget-view+json": {
       "model_id": "106f7b701a5c41b5b532e2eb5464a58c",
       "version_major": 2,
       "version_minor": 0
      },
      "text/plain": [
       "WebVisualizer(window_uid='window_3')"
      ]
     },
     "metadata": {},
     "output_type": "display_data"
    }
   ],
   "source": [
    "print(\"Extracting only the roff points\")\n",
    "roof_bbox = o3d.geometry.AxisAlignedBoundingBox(\n",
    "    min_bound=(-1.5, -1.7, -1.0), \n",
    "    max_bound=(2.6, 1.7, -0.4)\n",
    "    )\n",
    "roofpcd = croppcd.crop(roof_bbox)\n",
    "draw(roofpcd)"
   ]
  },
  {
   "cell_type": "code",
   "execution_count": 11,
   "id": "b9e493b6-da5a-44b9-8430-05c1efb67a4d",
   "metadata": {},
   "outputs": [
    {
     "name": "stdout",
     "output_type": "stream",
     "text": [
      "Extracting the points that doesn't belong to the roof\n"
     ]
    },
    {
     "data": {
      "application/vnd.jupyter.widget-view+json": {
       "model_id": "710eca7264cc489497828f9b987b6161",
       "version_major": 2,
       "version_minor": 0
      },
      "text/plain": [
       "WebVisualizer(window_uid='window_4')"
      ]
     },
     "metadata": {},
     "output_type": "display_data"
    }
   ],
   "source": [
    "croppcd_points = np.asarray(croppcd.points)\n",
    "roofpcd_points = np.asarray(roofpcd.points)\n",
    "\n",
    "indices = []\n",
    "for roof_element in roofpcd_points:\n",
    "    array_comparison = np.equal(croppcd_points, roof_element)\n",
    "    for index, array in enumerate(array_comparison):\n",
    "        if np.sum(np.logical_and(array, [True, True, True])) == 3:\n",
    "            indices.append(index)\n",
    "        \n",
    "print(\"Extracting the points that doesn't belong to the roof\")\n",
    "regionpcd = croppcd.select_by_index(indices, invert=True)\n",
    "draw(regionpcd)"
   ]
  },
  {
   "cell_type": "markdown",
   "id": "8e40668e-e117-4e1c-bc96-e5f51427fb20",
   "metadata": {},
   "source": [
    "# SECOND STEP"
   ]
  },
  {
   "cell_type": "markdown",
   "id": "f42a9a65-2123-4267-83d9-55ce6c19ca5c",
   "metadata": {},
   "source": [
    "Separating the road from obstacles. We perform Plane segmentation to achieve this goal. Using the RANSAC algorithm we can find the plane with the largest support in the point cloud."
   ]
  },
  {
   "cell_type": "markdown",
   "id": "1c9980c0-2294-4b8b-bbba-bf52600d2261",
   "metadata": {},
   "source": [
    "![ransac_raw](./Line_with_outliers.svg)"
   ]
  },
  {
   "cell_type": "markdown",
   "id": "afa71556-a34c-4bec-b733-4b35fe0346de",
   "metadata": {},
   "source": [
    "![ransac_raw](./Fitted_line.svg)"
   ]
  },
  {
   "cell_type": "code",
   "execution_count": 12,
   "id": "078e1b85-4dbb-4d93-93b9-c9be47051939",
   "metadata": {},
   "outputs": [
    {
     "name": "stdout",
     "output_type": "stream",
     "text": [
      "Segmententation of geometric primitives from point clouds using RANSAC.\n"
     ]
    },
    {
     "data": {
      "application/vnd.jupyter.widget-view+json": {
       "model_id": "047267824e6541409ec21c39af2d2f92",
       "version_major": 2,
       "version_minor": 0
      },
      "text/plain": [
       "WebVisualizer(window_uid='window_5')"
      ]
     },
     "metadata": {},
     "output_type": "display_data"
    }
   ],
   "source": [
    "print(\"Segmententation of geometric primitives from point clouds using RANSAC.\")\n",
    "plane_model, inliers = regionpcd.segment_plane(\n",
    "    distance_threshold=0.2,\n",
    "    ransac_n=3,\n",
    "    num_iterations=100\n",
    ")\n",
    "\n",
    "inlier_cloud = regionpcd.select_by_index(inliers)\n",
    "inlier_cloud.paint_uniform_color([1.0, 0, 0])\n",
    "\n",
    "draw(inlier_cloud)"
   ]
  },
  {
   "cell_type": "code",
   "execution_count": 13,
   "id": "cf208e70-6c40-4405-b4b8-9426674899a9",
   "metadata": {},
   "outputs": [
    {
     "data": {
      "application/vnd.jupyter.widget-view+json": {
       "model_id": "09a405403d544568903b956d53f2dea5",
       "version_major": 2,
       "version_minor": 0
      },
      "text/plain": [
       "WebVisualizer(window_uid='window_6')"
      ]
     },
     "metadata": {},
     "output_type": "display_data"
    }
   ],
   "source": [
    "outlier_cloud = regionpcd.select_by_index(inliers, invert=True)\n",
    "outlier_cloud.paint_uniform_color([0.2, 0.5, 0])\n",
    "\n",
    "draw(outlier_cloud)"
   ]
  },
  {
   "cell_type": "markdown",
   "id": "9201ad1c-011d-444a-9ec7-6ea6849b8cce",
   "metadata": {},
   "source": [
    "## THIRD STEP\n",
    "\n",
    "Applying clustering to split the input point cloud. We separate each detected obstacle and get its correspondent points. "
   ]
  },
  {
   "cell_type": "code",
   "execution_count": 14,
   "id": "868eb57c-f8e4-4611-b853-55dd9e494064",
   "metadata": {},
   "outputs": [
    {
     "name": "stdout",
     "output_type": "stream",
     "text": [
      "Clustering using DBSCAN from a point cloud\n",
      "(1725,)\n",
      "point cloud has 9 clusters\n"
     ]
    }
   ],
   "source": [
    "print(\"Clustering using DBSCAN from a point cloud\")\n",
    "with o3d.utility.VerbosityContextManager(o3d.utility.VerbosityLevel.Debug) as cm:\n",
    "    labels = np.array(outlier_cloud.cluster_dbscan(eps=0.7, min_points=10, print_progress=True))\n",
    "\n",
    "print(labels.shape)\n",
    "max_label = labels.max()\n",
    "print(f\"point cloud has {max_label + 1} clusters\")"
   ]
  },
  {
   "cell_type": "code",
   "execution_count": 15,
   "id": "14dddd71-015f-4639-bf49-695cd9f4bca4",
   "metadata": {},
   "outputs": [
    {
     "data": {
      "application/vnd.jupyter.widget-view+json": {
       "model_id": "edf859fa7a6e434191dbc950b75287f5",
       "version_major": 2,
       "version_minor": 0
      },
      "text/plain": [
       "WebVisualizer(window_uid='window_7')"
      ]
     },
     "metadata": {},
     "output_type": "display_data"
    }
   ],
   "source": [
    "colors = plt.get_cmap(\"tab20\")(labels / (max_label if max_label > 0 else 1))\n",
    "colors[labels < 0] = 0\n",
    "outlier_cloud.colors = o3d.utility.Vector3dVector(colors[:, :3])\n",
    "\n",
    "draw(outlier_cloud)"
   ]
  },
  {
   "cell_type": "markdown",
   "id": "2955596b-ae35-4946-b152-8579612cdb8a",
   "metadata": {},
   "source": [
    "## FOURTH STEP\n",
    "\n",
    "Determining and drawing the bounding boxes for the obstacles in the point cloud."
   ]
  },
  {
   "cell_type": "code",
   "execution_count": 18,
   "id": "ca28290a-fdd7-4aec-af4d-6fa9bc0ecad5",
   "metadata": {},
   "outputs": [
    {
     "name": "stdout",
     "output_type": "stream",
     "text": [
      "Drawing bounding boxes of obstacles\n",
      "-1\n",
      "9\n"
     ]
    },
    {
     "data": {
      "application/vnd.jupyter.widget-view+json": {
       "model_id": "9009936a749b43a8b15980144cdf11ef",
       "version_major": 2,
       "version_minor": 0
      },
      "text/plain": [
       "WebVisualizer(window_uid='window_10')"
      ]
     },
     "metadata": {},
     "output_type": "display_data"
    }
   ],
   "source": [
    "print(\"Drawing bounding boxes of obstacles\")\n",
    "\n",
    "print(labels.min())\n",
    "\n",
    "bounding_boxes = []\n",
    "for cluster_number in list(np.unique(labels))[1:]:\n",
    "    cluster_indices = np.where(labels == cluster_number)\n",
    "    cluster_cloud_points = outlier_cloud.select_by_index(\n",
    "        cluster_indices[0].tolist()\n",
    "        )\n",
    "    object_bbox = cluster_cloud_points.get_axis_aligned_bounding_box()\n",
    "    bounding_boxes.append(object_bbox)\n",
    "\n",
    "print(len(bounding_boxes))\n",
    "\n",
    "draw([inlier_cloud, outlier_cloud, *bounding_boxes])"
   ]
  },
  {
   "cell_type": "markdown",
   "id": "7a803a9d-ce70-43e7-acb8-14bae480e446",
   "metadata": {},
   "source": [
    "# Final Result"
   ]
  },
  {
   "cell_type": "markdown",
   "id": "e05c9e5e-3ba5-491d-9663-38bb57529ed5",
   "metadata": {},
   "source": [
    "![obstacle_fig](./gif/data_1.gif)"
   ]
  }
 ],
 "metadata": {
  "kernelspec": {
   "display_name": "Python 3 (ipykernel)",
   "language": "python",
   "name": "python3"
  },
  "language_info": {
   "codemirror_mode": {
    "name": "ipython",
    "version": 3
   },
   "file_extension": ".py",
   "mimetype": "text/x-python",
   "name": "python",
   "nbconvert_exporter": "python",
   "pygments_lexer": "ipython3",
   "version": "3.8.13"
  }
 },
 "nbformat": 4,
 "nbformat_minor": 5
}
